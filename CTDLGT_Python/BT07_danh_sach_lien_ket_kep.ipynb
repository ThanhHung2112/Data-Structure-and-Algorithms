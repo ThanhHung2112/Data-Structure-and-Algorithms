{
 "cells": [
  {
   "cell_type": "code",
   "execution_count": 1,
   "metadata": {},
   "outputs": [],
   "source": [
    "# Linked List class\n",
    "class DoubleLinkedList:\n",
    "\n",
    "    # Function to initialize the Linked\n",
    "    # List object\n",
    "    def __init__(self):\n",
    "        self.head = None\n",
    "         #Given a reference to the head of DLL and integer, \n",
    "    # appends a new node at the end \n",
    "    def append(self, new_data): \n",
    "  \n",
    "        # 1. Allocates node \n",
    "        # 2. Put in the data \n",
    "        new_node = Node(new_data) \n",
    "  \n",
    "        # 3. This new node is going to be the last node, \n",
    "        # so make next of it as None \n",
    "        new_node.next = None\n",
    "  \n",
    "        # 4. If the Linked List is empty, then make the \n",
    "        # new node as head \n",
    "        if self.head is None: \n",
    "            new_node.prev = N\n",
    "             # Given a reference to the head of a list and an \n",
    "    # integer, inserts a new node on the front of list \n",
    "    def push(self, new_data): \n",
    "  \n",
    "        # 1. Allocates node \n",
    "        # 2. Put the data in it \n",
    "        new_node = Node(new_data) \n",
    "  \n",
    "        # 3. Make next of new node as head and \n",
    "        # previous as None (already None) \n",
    "        new_node.next = self.head \n",
    "  \n",
    "        # 4. change prev of head node to new_node \n",
    "        if self.head is not None: \n",
    "            self.head.prev = new_node "
   ]
  },
  {
   "cell_type": "code",
   "execution_count": null,
   "metadata": {},
   "outputs": [],
   "source": []
  }
 ],
 "metadata": {
  "kernelspec": {
   "display_name": "Python 3",
   "language": "python",
   "name": "python3"
  },
  "language_info": {
   "codemirror_mode": {
    "name": "ipython",
    "version": 3
   },
   "file_extension": ".py",
   "mimetype": "text/x-python",
   "name": "python",
   "nbconvert_exporter": "python",
   "pygments_lexer": "ipython3",
   "version": "3.8.3"
  }
 },
 "nbformat": 4,
 "nbformat_minor": 4
}

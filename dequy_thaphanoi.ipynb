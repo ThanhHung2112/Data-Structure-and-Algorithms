{
 "cells": [
  {
   "cell_type": "code",
   "execution_count": 16,
   "metadata": {},
   "outputs": [
    {
     "name": "stdout",
     "output_type": "stream",
     "text": [
      "Chuyen tu Toa 1 sang Toa 3\n",
      "Chuyen tu Toa 1 sang Toa 2\n",
      "Chuyen tu Toa 3 sang Toa 2\n",
      "Chuyen tu Toa 1 sang Toa 3\n",
      "Chuyen tu Toa 2 sang Toa 1\n",
      "Chuyen tu Toa 2 sang Toa 3\n",
      "Chuyen tu Toa 1 sang Toa 3\n",
      "None\n"
     ]
    }
   ],
   "source": [
    "def thap_ha_noi(n, toaMot, toaHai, toaBa):\n",
    "\n",
    "    if n == 1:\n",
    "        print(\"Chuyen tu\", toaMot, \"sang\", toaBa)\n",
    "    else:\n",
    "        thapHaNoi(n-1,toaMot,toaBa ,toaHai)\n",
    "        print(\"Chuyen tu\", toaMot, \"sang\", toaBa)\n",
    "        thapHaNoi(n-1,toaHai,toaMot, toaBa)\n",
    "print(thap_ha_noi(3, \"Toa 1\", \"Toa 2\", \"Toa 3\"))"
   ]
  }
 ],
 "metadata": {
  "kernelspec": {
   "display_name": "Python 3",
   "language": "python",
   "name": "python3"
  },
  "language_info": {
   "codemirror_mode": {
    "name": "ipython",
    "version": 3
   },
   "file_extension": ".py",
   "mimetype": "text/x-python",
   "name": "python",
   "nbconvert_exporter": "python",
   "pygments_lexer": "ipython3",
   "version": "3.8.3"
  }
 },
 "nbformat": 4,
 "nbformat_minor": 4
}
